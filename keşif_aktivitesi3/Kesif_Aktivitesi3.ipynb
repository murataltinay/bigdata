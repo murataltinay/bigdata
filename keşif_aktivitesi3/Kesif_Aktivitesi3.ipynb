{
 "cells": [
  {
   "cell_type": "markdown",
   "metadata": {},
   "source": [
    "## BLM442 Keşif aktivitesi-3: SQLite üzerinde veri analizi"
   ]
  },
  {
   "cell_type": "markdown",
   "metadata": {},
   "source": [
    "#### İsim/Soyisim: Murat Altınay\n",
    "#### Öğrenci Numarası:170202109\n",
    "#### E-mail:170202109@kocaeli.edu.tr\n",
    "#### Kullanılan dataset adı:NBA Salary and Statistics 2016-17\n",
    "#### Dataset url:https://www.kaggle.com/rikdifos/nba-salary-and-statistics-201617"
   ]
  },
  {
   "cell_type": "code",
   "execution_count": 1,
   "metadata": {
    "scrolled": false
   },
   "outputs": [],
   "source": [
    "import sqlite3\n",
    "conn = sqlite3.connect(\"C:/Users/immur/Desktop/murat.db\")\n",
    "cur = conn.cursor()"
   ]
  },
  {
   "cell_type": "markdown",
   "metadata": {},
   "source": [
    "#### İntihal: \n",
    "Netten alınacak kısmi kod parçaları önceden kod içinde/raporda belirtilmek ve soru sorulduğunda cevaplanması durumunda sıkıntı çıkarmayacaktır. (i) Internet kaynağını belirtmeyen/açıklayamayan/üzerinde geliştirme yapmayan veya (ii) birbirleriyle benzer/aynı çalışma teslim edenlerin aktiviteleri sıfır üzerinden değerlendirilecektir."
   ]
  },
  {
   "cell_type": "markdown",
   "metadata": {},
   "source": [
    "#### KA-3 Gönderim şekli"
   ]
  },
  {
   "cell_type": "markdown",
   "metadata": {},
   "source": [
    "1-pdf olarak \"ogrenciNo.pdf\" dokumanını gonderme\n",
    "-calisma dosyasında (File -> Print Preview) sonrası olusan html dosyasını yazdır deyip pdf olarak kaydetme veya\n",
    "-(File -> Download as -> HTML) seklinde indirip pdf'e cevirme http://html2pdf.com/\n",
    "\n",
    "2-(File -> Download as -> Notebook) indirip \"ogrenciNo.ipynb\" dokumanını gonderme\n",
    "\n",
    "suleyman.eken@kocaeli.edu.tr"
   ]
  },
  {
   "cell_type": "markdown",
   "metadata": {},
   "source": [
    "Keşif aktivitesi 1 için kullanmış oldugunuz dataset üzerinde 15 problem bulunup çözümleri çıktıları ile beraber sunulacaktır.\n",
    "\n",
    "https://docs.google.com/spreadsheets/d/1bt345SO14dGbCMz4mtP1fYwPENu36v-gVhfhOcQHMbA/edit?usp=sharing\n",
    "\n",
    "Problemlerinizin SELECT, WHERE, ORDER BY, SELECT TOP, LIKE, IN, BETWEEN, AS, INTERSECT, GROUP BY, HAVING, COUNT(), MIN() and MAX(), AVG(), SUM(), INNER JOIN, RIGHT (OUTER) JOIN, LEFT (OUTER) JOIN vs. keyword'lerinden birkaçını içermesini sağlayınız."
   ]
  },
  {
   "cell_type": "markdown",
   "metadata": {},
   "source": [
    "#### Problem 1:2016-17 Sezonunda en yüksek maaş alan oyuncu maaşı ve oyuncu adı nedir?"
   ]
  },
  {
   "cell_type": "code",
   "execution_count": 2,
   "metadata": {},
   "outputs": [
    {
     "name": "stdout",
     "output_type": "stream",
     "text": [
      "[('Stephen Curry', 34682550.0)]\n"
     ]
    }
   ],
   "source": [
    "cur.execute(\"select Player,max(season17_18) from NBA_season1718_salary;\")\n",
    "results = cur.fetchall()\n",
    "print(results)"
   ]
  },
  {
   "cell_type": "markdown",
   "metadata": {},
   "source": [
    "#### Problem 2:NBA takımlarının oyuncularına verdiği ortalama maaşlar nelerdir?"
   ]
  },
  {
   "cell_type": "code",
   "execution_count": 3,
   "metadata": {},
   "outputs": [
    {
     "name": "stdout",
     "output_type": "stream",
     "text": [
      "ATL 3711770.2592592593\n",
      "BOS 6765291.882352941\n",
      "BRK 5335542.888888889\n",
      "CHI 3726043.4166666665\n",
      "CHO 8373440.285714285\n",
      "CLE 9806324.92857143\n",
      "DAL 3900970.9545454546\n",
      "DEN 6743068.6875\n",
      "DET 6004305.25\n",
      "GSW 8593427.8125\n",
      "HOU 5410185.5\n",
      "IND 4969989.0\n",
      "LAC 5945358.15\n",
      "LAL 4788884.090909091\n",
      "MEM 5505203.05\n",
      "MIA 7290145.777777778\n",
      "MIL 5485741.7272727275\n",
      "MIN 7341784.625\n",
      "NOP 5701217.666666667\n",
      "NYK 5135971.666666667\n",
      "OKC 8952937.066666666\n",
      "ORL 5701526.705882353\n",
      "PHI 5039713.9\n",
      "PHO 4515158.714285715\n",
      "POR 6268890.736842105\n",
      "SAC 4781376.4\n",
      "SAS 6832562.0\n",
      "TOR 6854635.05882353\n",
      "UTA 5373250.7\n",
      "WAS 6898880.111111111\n"
     ]
    }
   ],
   "source": [
    "cur.execute(\"select Tm,avg(season17_18) from NBA_season1718_salary group by Tm;\")\n",
    "results = cur.fetchall()\n",
    "for mm in results:\n",
    "    print(mm[0],mm[1])"
   ]
  },
  {
   "cell_type": "markdown",
   "metadata": {},
   "source": [
    "#### Problem 3: En düşük maaş alan ilk 10 oyuncu adı ve maaşı nedir?"
   ]
  },
  {
   "cell_type": "code",
   "execution_count": 4,
   "metadata": {
    "scrolled": true
   },
   "outputs": [
    {
     "name": "stdout",
     "output_type": "stream",
     "text": [
      "Jarell Eddie 17224.0\n",
      "Joel Bolomboy 22248.0\n",
      "Axel Toupane 25000.0\n",
      "Quinn Cook 25000.0\n",
      "Chris Johnson 25000.0\n",
      "Beno Udrih 25000.0\n",
      "DeAndre Liggins 26773.0\n",
      "Nigel Hayes 46080.0\n",
      "Nigel Hayes 46080.0\n",
      "Rodney Purvis 46080.0\n"
     ]
    }
   ],
   "source": [
    "cur.execute(\"select Player,season17_18 from NBA_season1718_salary order by season17_18 limit 10;\")\n",
    "results = cur.fetchall()\n",
    "for mm in results:\n",
    "    print(mm[0],mm[1])"
   ]
  },
  {
   "cell_type": "markdown",
   "metadata": {},
   "source": [
    "#### Problem 4: GSW takımındaki oyuncu adları ve aldıkları maaşlar?"
   ]
  },
  {
   "cell_type": "code",
   "execution_count": 5,
   "metadata": {},
   "outputs": [
    {
     "name": "stdout",
     "output_type": "stream",
     "text": [
      "CLE LeBron James 33285709.0\n",
      "CLE Kevin Love 22642350.0\n",
      "CLE George Hill 20000000.0\n",
      "CLE Tristan Thompson 16400000.0\n",
      "CLE J.R. Smith 13760000.0\n",
      "CLE Jordan Clarkson 11562500.0\n",
      "CLE Kyle Korver 7000000.0\n",
      "CLE Cedi Osman 2642857.0\n",
      "CLE Rodney Hood 2386864.0\n",
      "CLE Jose Calderon 2328652.0\n",
      "CLE Jeff Green 2116955.0\n",
      "CLE Ante Zizic 1645200.0\n",
      "CLE Larry Nance 1471382.0\n",
      "CLE Marcus Thornton 46080.0\n"
     ]
    }
   ],
   "source": [
    "cur.execute(\"select * from NBA_season1718_salary where Tm in('CLE');\")\n",
    "results = cur.fetchall()\n",
    "for mm in results:\n",
    "    print(mm[2],mm[1],mm[3])"
   ]
  },
  {
   "cell_type": "markdown",
   "metadata": {},
   "source": [
    "#### Problem 5: En yüksek maaş alan ilk 10 oyuncu sıralaması  en çok maaştan en aza doğru sırası?"
   ]
  },
  {
   "cell_type": "code",
   "execution_count": 6,
   "metadata": {
    "scrolled": false
   },
   "outputs": [
    {
     "name": "stdout",
     "output_type": "stream",
     "text": [
      "GSW Stephen Curry 34682550.0\n",
      "CLE LeBron James 33285709.0\n",
      "DEN Paul Millsap 31269231.0\n",
      "BOS Gordon Hayward 29727900.0\n",
      "DET Blake Griffin 29512900.0\n",
      "TOR Kyle Lowry 28703704.0\n",
      "OKC Russell Westbrook 28530608.0\n",
      "MEM Mike Conley 28530608.0\n",
      "HOU James Harden 28299399.0\n",
      "TOR DeMar DeRozan 27739975.0\n"
     ]
    }
   ],
   "source": [
    "cur.execute(\"select * from NBA_season1718_salary order by season17_18 desc limit 10;\")\n",
    "results = cur.fetchall()\n",
    "for mm in results:\n",
    "    print(mm[2],mm[1],mm[3])"
   ]
  },
  {
   "cell_type": "markdown",
   "metadata": {},
   "source": [
    "#### Problem 6: Takımların kaçar adet oyuncusu vardır? küçükten büyüğe sıralayınız ."
   ]
  },
  {
   "cell_type": "code",
   "execution_count": 7,
   "metadata": {
    "scrolled": true
   },
   "outputs": [
    {
     "name": "stdout",
     "output_type": "stream",
     "text": [
      "CHO 14\n",
      "CLE 14\n",
      "OKC 15\n",
      "DEN 16\n",
      "GSW 16\n",
      "MIN 16\n",
      "BOS 17\n",
      "ORL 17\n",
      "SAS 17\n",
      "TOR 17\n",
      "BRK 18\n",
      "MIA 18\n",
      "WAS 18\n",
      "IND 19\n",
      "POR 19\n",
      "DET 20\n",
      "LAC 20\n",
      "MEM 20\n",
      "PHI 20\n",
      "SAC 20\n",
      "UTA 20\n",
      "NOP 21\n",
      "NYK 21\n",
      "PHO 21\n",
      "DAL 22\n",
      "HOU 22\n",
      "LAL 22\n",
      "MIL 22\n",
      "CHI 24\n",
      "ATL 27\n"
     ]
    }
   ],
   "source": [
    "cur.execute(\"select Tm,count(Player) as count_player from NBA_season1718_salary group by Tm order by count_player ;\")\n",
    "results = cur.fetchall()\n",
    "for mm in results:\n",
    "    print(mm[0],mm[1])"
   ]
  },
  {
   "cell_type": "markdown",
   "metadata": {},
   "source": [
    "#### Problem 7: 15 milyon dolar ve 25 milyon dolar arasında maaş alan oyuncular?"
   ]
  },
  {
   "cell_type": "code",
   "execution_count": 8,
   "metadata": {},
   "outputs": [
    {
     "name": "stdout",
     "output_type": "stream",
     "text": [
      "Kevin Durant\n",
      "Otto Porter\n",
      "Chris Paul\n",
      "C.J. McCollum\n",
      "Bradley Beal\n",
      "Anthony Davis\n",
      "Andre Drummond\n",
      "Hassan Whiteside\n",
      "Dwight Howard\n",
      "Chandler Parsons\n",
      "Harrison Barnes\n",
      "J.J. Redick\n",
      "Marc Gasol\n",
      "Kevin Love\n",
      "Brook Lopez\n",
      "DeAndre Jordan\n",
      "Steven Adams\n",
      "Giannis Antetokounmpo\n",
      "Nicolas Batum\n",
      "Rudy Gobert\n",
      "LaMarcus Aldridge\n",
      "Victor Oladipo\n",
      "Enes Kanter\n",
      "Danilo Gallinari\n",
      "Serge Ibaka\n",
      "George Hill\n",
      "Ryan Anderson\n",
      "Paul George\n",
      "Allen Crabbe\n",
      "Jimmy Butler\n",
      "Jeff Teague\n",
      "Kawhi Leonard\n",
      "Kyrie Irving\n",
      "John Wall\n",
      "DeMarcus Cousins\n",
      "Greg Monroe\n",
      "Wesley Matthews\n",
      "Klay Thompson\n",
      "Joakim Noah\n",
      "Kentavious Caldwell-Pope\n",
      "Luol Deng\n",
      "Evan Turner\n",
      "Goran Dragic\n",
      "Evan Fournier\n",
      "Bismack Biyombo\n",
      "Kent Bazemore\n",
      "Robert Covington\n",
      "Ian Mahinmi\n",
      "Tim Hardaway\n",
      "Draymond Green\n",
      "Tristan Thompson\n",
      "Reggie Jackson\n",
      "Pau Gasol\n",
      "Tobias Harris\n",
      "Dwyane Wade\n",
      "Dennis Schroder\n",
      "Jonas Valanciunas\n",
      "Tony Parker\n",
      "Timofey Mozgov\n"
     ]
    }
   ],
   "source": [
    "cur.execute(\"select Player from NBA_season1718_salary where season17_18 between 15000000 and 25000000 ;\")\n",
    "results = cur.fetchall()\n",
    "for mm in results:\n",
    "    print(mm[0])"
   ]
  },
  {
   "cell_type": "markdown",
   "metadata": {},
   "source": [
    "#### Problem 8: Oyuncu sayısı 20 adetten fazla olan takımlar hangileridir?"
   ]
  },
  {
   "cell_type": "code",
   "execution_count": 9,
   "metadata": {},
   "outputs": [
    {
     "name": "stdout",
     "output_type": "stream",
     "text": [
      "NOP 21\n",
      "NYK 21\n",
      "PHO 21\n",
      "DAL 22\n",
      "HOU 22\n",
      "LAL 22\n",
      "MIL 22\n",
      "CHI 24\n",
      "ATL 27\n"
     ]
    }
   ],
   "source": [
    "cur.execute(\"select Tm,count(Player) as q1 from NBA_season1718_salary group by Tm having q1>20 order by q1;\")\n",
    "results = cur.fetchall()\n",
    "for mm in results:\n",
    "    print(mm[0],mm[1])\n"
   ]
  },
  {
   "cell_type": "markdown",
   "metadata": {},
   "source": [
    "#### Problem 9: On yıldan uzun süredir NBA takımlarında forma giyen oyuncular kimlerdir ve forma giydikleri toplam yıl sayıları kaçtır?"
   ]
  },
  {
   "cell_type": "code",
   "execution_count": 10,
   "metadata": {},
   "outputs": [
    {
     "name": "stdout",
     "output_type": "stream",
     "text": [
      "Channing Frye 11\n",
      "J.J. Barea 11\n",
      "J.J. Redick 11\n",
      "Kyle Lowry 11\n",
      "LaMarcus Aldridge 11\n",
      "Larry Drew 11\n",
      "Paul Millsap 11\n",
      "Rajon Rondo 11\n",
      "Rudy Gay 11\n",
      "Thabo Sefolosha 11\n",
      "Amir Johnson 12\n",
      "Andrew Bogut 12\n",
      "C.J. Miles 12\n",
      "Chris Paul 12\n",
      "Deron Williams 12\n",
      "Jarrett Jack 12\n",
      "Jose Calderon 12\n",
      "Josh Smith 12\n",
      "Kevin Martin 12\n",
      "Lou Williams 12\n",
      "Marvin Williams 12\n",
      "Mike James 12\n",
      "Monta Ellis 12\n",
      "Raymond Felton 12\n",
      "Ronnie Price 12\n",
      "Shaun Livingston 12\n",
      "Al Jefferson 13\n",
      "Anderson Varejao 13\n",
      "Andre Iguodala 13\n",
      "Beno Udrih 13\n",
      "Chris Bosh 13\n",
      "Devin Harris 13\n",
      "Dwight Howard 13\n",
      "J.R. Smith 13\n",
      "Jameer Nelson 13\n",
      "Luol Deng 13\n",
      "Nick Collison 13\n",
      "Tony Allen 13\n",
      "Trevor Ariza 13\n",
      "Carmelo Anthony 14\n",
      "Caron Butler 14\n",
      "David West 14\n",
      "Dwyane Wade 14\n",
      "Glenn Robinson 14\n",
      "Kyle Korver 14\n",
      "LeBron James 14\n",
      "Leandro Barbosa 14\n",
      "Matt Barnes 14\n",
      "Udonis Haslem 14\n",
      "Zaza Pachulia 14\n",
      "Larry Nance 15\n",
      "Manu Ginobili 15\n",
      "Nene Hilario 15\n",
      "Joe Johnson 16\n",
      "Pau Gasol 16\n",
      "Richard Jefferson 16\n",
      "Tony Parker 16\n",
      "Tyson Chandler 16\n",
      "Zach Randolph 16\n",
      "Jamal Crawford 17\n",
      "Tim Hardaway 17\n",
      "Jason Terry 18\n",
      "Dirk Nowitzki 19\n",
      "Paul Pierce 19\n",
      "Tim Duncan 19\n",
      "Vince Carter 19\n",
      "Gerald Henderson 21\n",
      "Mike Dunleavy 26\n"
     ]
    }
   ],
   "source": [
    "cur.execute(\"\"\"select NBA_season1718_salary.Player,count(distinct Seasons_Stats.Year) as q1 from Seasons_Stats \n",
    "inner join NBA_season1718_salary on Seasons_Stats.Player = NBA_season1718_salary.Player \n",
    "group by Seasons_Stats.Player having q1>10 order by q1 ;\"\"\")\n",
    "results = cur.fetchall()\n",
    "for mm in results:\n",
    "    print(mm[0],mm[1])"
   ]
  },
  {
   "cell_type": "markdown",
   "metadata": {},
   "source": [
    "#### Problem 10: 2005-2016 yılları arasında attıkları takımların  taplam sayı nedir?sıralayınız."
   ]
  },
  {
   "cell_type": "code",
   "execution_count": 11,
   "metadata": {
    "scrolled": false
   },
   "outputs": [
    {
     "name": "stdout",
     "output_type": "stream",
     "text": [
      "TOT 263458.0\n",
      "PHO 102221.0\n",
      "GSW 102051.0\n",
      "DEN 101006.0\n",
      "LAL 98355.0\n",
      "DAL 98125.0\n",
      "SAC 97949.0\n",
      "HOU 97467.0\n",
      "SAS 97275.0\n",
      "TOR 96827.0\n",
      "LAC 95988.0\n",
      "NYK 95833.0\n",
      "WAS 95675.0\n",
      "UTA 95639.0\n",
      "BOS 95516.0\n",
      "MIA 95396.0\n",
      "CLE 95295.0\n",
      "ORL 95192.0\n",
      "IND 95169.0\n",
      "MIN 95027.0\n",
      "ATL 95016.0\n",
      "POR 94751.0\n",
      "CHI 94584.0\n",
      "MIL 94423.0\n",
      "MEM 94104.0\n",
      "PHI 93608.0\n",
      "DET 93344.0\n",
      "CHA 76058.0\n",
      "OKC 66608.0\n",
      "NJN 60530.0\n",
      "NOH 53013.0\n",
      "SEA 32653.0\n",
      "BRK 32150.0\n",
      "NOP 24747.0\n",
      "CHO 16200.0\n",
      "NOK 15444.0\n"
     ]
    }
   ],
   "source": [
    "cur.execute(\"select Tm ,sum(PTS)  from Seasons_Stats where Year between 2005 and 2016 group by Tm order by sum(PTS) desc;\")\n",
    "results = cur.fetchall()\n",
    "for mm in results:\n",
    "    print(str(mm[0]),mm[1])"
   ]
  },
  {
   "cell_type": "markdown",
   "metadata": {},
   "source": [
    "#### Problem 11:Soyadının son harfi  'n' olan oyuncuların 2010-2015 yılları arasında attıkları ortalama sayı kaçtır?"
   ]
  },
  {
   "cell_type": "code",
   "execution_count": 12,
   "metadata": {},
   "outputs": [
    {
     "name": "stdout",
     "output_type": "stream",
     "text": [
      "430.34166666666664\n"
     ]
    }
   ],
   "source": [
    "cur.execute(\"select avg(PTS) from Seasons_Stats where Year between 2010 and 2015 and Player like '%n' ;\")\n",
    "results = cur.fetchall()\n",
    "for mm in results:\n",
    "    print(mm[0])"
   ]
  },
  {
   "cell_type": "markdown",
   "metadata": {},
   "source": [
    "#### Problem 12: Oyuncuların yıllar içinde bir sezonda yapabildikleri maximum asist sayısı kaçtır ?ilk 20 oyuncuyu sıralayınız."
   ]
  },
  {
   "cell_type": "code",
   "execution_count": 13,
   "metadata": {},
   "outputs": [
    {
     "name": "stdout",
     "output_type": "stream",
     "text": [
      "Chris Paul 925.0\n",
      "James Harden 906.0\n",
      "Deron Williams 862.0\n",
      "Russell Westbrook 840.0\n",
      "Rajon Rondo 839.0\n",
      "John Wall 831.0\n",
      "Tim Hardaway 807.0\n",
      "Ricky Rubio 704.0\n",
      "Jose Calderon 678.0\n",
      "Stephen Curry 666.0\n",
      "LeBron James 651.0\n",
      "Jeff Teague 639.0\n",
      "Raymond Felton 625.0\n",
      "Jrue Holiday 625.0\n",
      "Derrick Rose 623.0\n",
      "Larry Drew 610.0\n",
      "Brandon Jennings 609.0\n",
      "Jason Terry 600.0\n",
      "Draymond Green 598.0\n",
      "Dwyane Wade 589.0\n"
     ]
    }
   ],
   "source": [
    "cur.execute(\"\"\"select NBA_season1718_salary.Player,max(Seasons_Stats.AST) from NBA_season1718_salary \n",
    "inner join Seasons_Stats on NBA_season1718_salary.Player = Seasons_Stats.Player\n",
    "group by Seasons_Stats.Player order by Seasons_Stats.AST desc limit 20;\"\"\")\n",
    "results = cur.fetchall()\n",
    "for mm in results:\n",
    "    print(mm[0],mm[1])"
   ]
  },
  {
   "cell_type": "markdown",
   "metadata": {},
   "source": [
    "#### Problem 13:Oyuncuların yıllar içinde bir sezonda denedikleri maximum sayı denemeleri top 10 sıralaması nasıldır?"
   ]
  },
  {
   "cell_type": "code",
   "execution_count": 14,
   "metadata": {},
   "outputs": [
    {
     "name": "stdout",
     "output_type": "stream",
     "text": [
      "Russell Westbrook 1941.0\n",
      "LeBron James 1823.0\n",
      "Dwyane Wade 1739.0\n",
      "Vince Carter 1696.0\n",
      "Kevin Durant 1688.0\n",
      "Carmelo Anthony 1643.0\n",
      "James Harden 1617.0\n",
      "Dirk Nowitzki 1616.0\n",
      "Monta Ellis 1611.0\n",
      "Stephen Curry 1598.0\n"
     ]
    }
   ],
   "source": [
    "cur.execute(\"\"\"select NBA_season1718_salary.Player,max(Seasons_Stats.FGA) from NBA_season1718_salary \n",
    "left join Seasons_Stats on NBA_season1718_salary.Player = Seasons_Stats.Player\n",
    "group by Seasons_Stats.Player order by Seasons_Stats.FGA desc limit 10 ;\"\"\")\n",
    "results = cur.fetchall()\n",
    "for mm in results:\n",
    "    print(mm[0],mm[1])"
   ]
  },
  {
   "cell_type": "markdown",
   "metadata": {},
   "source": [
    "#### Problem 14: Bu yıl Los Angeles Takımında oynayan oyuncuların 2015 yılında takımlarında(farklı da olabilir) attıkları toplam sayı kaçtır?"
   ]
  },
  {
   "cell_type": "code",
   "execution_count": 15,
   "metadata": {},
   "outputs": [
    {
     "name": "stdout",
     "output_type": "stream",
     "text": [
      "LAL 9375.0\n"
     ]
    }
   ],
   "source": [
    "cur.execute(\"\"\"select NBA_season1718_salary.Tm,sum(Seasons_Stats.PTS) from NBA_season1718_salary \n",
    "inner join Seasons_Stats on NBA_season1718_salary.Player = Seasons_Stats.Player\n",
    "where Seasons_Stats.Year = 2015 and NBA_season1718_salary.Tm = 'LAL' group by Seasons_Stats.Year;\"\"\")\n",
    "results = cur.fetchall()\n",
    "for mm in results:\n",
    "    print(mm[0],mm[1])"
   ]
  },
  {
   "cell_type": "markdown",
   "metadata": {},
   "source": [
    "#### Problem 15: 2012 yılında en çok sayı atan oyuncunun 2016-17 sezonunda aldığı maaş ve oynadığı takım?"
   ]
  },
  {
   "cell_type": "code",
   "execution_count": 16,
   "metadata": {},
   "outputs": [
    {
     "name": "stdout",
     "output_type": "stream",
     "text": [
      "GSW Kevin Durant 34682550.0 1850.0\n"
     ]
    }
   ],
   "source": [
    "cur.execute(\"\"\"select NBA_season1718_salary.Tm,NBA_season1718_salary.Player,\n",
    "max(NBA_season1718_salary.season17_18),\n",
    "max(Seasons_Stats.PTS) from NBA_season1718_salary \n",
    "left join Seasons_Stats on NBA_season1718_salary.Player = Seasons_Stats.Player\n",
    "where Seasons_Stats.Year = 2012 group by Seasons_Stats.Year   ;\"\"\")\n",
    "results = cur.fetchall()\n",
    "for mm in results:\n",
    "    print(mm[0],mm[1],mm[2],mm[3])"
   ]
  }
 ],
 "metadata": {
  "kernelspec": {
   "display_name": "Python 3",
   "language": "python",
   "name": "python3"
  },
  "language_info": {
   "codemirror_mode": {
    "name": "ipython",
    "version": 3
   },
   "file_extension": ".py",
   "mimetype": "text/x-python",
   "name": "python",
   "nbconvert_exporter": "python",
   "pygments_lexer": "ipython3",
   "version": "3.7.6"
  }
 },
 "nbformat": 4,
 "nbformat_minor": 2
}
